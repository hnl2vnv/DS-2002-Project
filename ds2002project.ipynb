{
 "cells": [
  {
   "cell_type": "code",
   "execution_count": null,
   "id": "a2db795d-fea1-4cd7-b30d-5649897035ba",
   "metadata": {},
   "outputs": [],
   "source": [
    "!pip install pymongo"
   ]
  },
  {
   "cell_type": "code",
   "execution_count": null,
   "id": "7bdc72ce-b453-47d2-a92a-f093fd64795e",
   "metadata": {},
   "outputs": [],
   "source": [
    "## Import libraries\n",
    "import os\n",
    "import datetime\n",
    "import pymongo\n",
    "import pprint\n",
    "import pandas as pd"
   ]
  },
  {
   "cell_type": "code",
   "execution_count": null,
   "id": "b05835c2-399c-4c86-8fe1-51a551f92c75",
   "metadata": {},
   "outputs": [],
   "source": [
    "## Connect to the MONGO DB Instance\n",
    "\n",
    "host_name = \"localhost\"\n",
    "port = \"27017\"\n",
    "atlas_cluster_name = \"cluster0.0zywi.mongodb.net\"\n",
    "atlas_default_dbname = \"test\"\n",
    "atlas_user_name = \"ds2002\"\n",
    "atlas_password = \"UVA!1819\""
   ]
  },
  {
   "cell_type": "code",
   "execution_count": null,
   "id": "275eac6a-5b46-470f-8a5d-189f3f3eadb3",
   "metadata": {
    "tags": []
   },
   "outputs": [],
   "source": [
    "conn_str = {\n",
    "  #  \"local\" : f\"mongodb://{host_name}:{port}/\",\n",
    "    \"atlas\" : f\"mongodb+srv://{atlas_user_name}:{atlas_password}@{atlas_cluster_name}/{atlas_default_dbname}\"\n",
    "}\n",
    "\n",
    "client = pymongo.MongoClient(conn_str[\"atlas\"])\n",
    "\n",
    "#print(f\"Local Connection String: {conn_str['local']}\")\n",
    "print(f\"Atlas Connection String: {conn_str['atlas']}\")"
   ]
  },
  {
   "cell_type": "code",
   "execution_count": null,
   "id": "e557c70f-8a4d-4e7a-b03a-0068c5feaa63",
   "metadata": {},
   "outputs": [],
   "source": [
    "client.list_database_names()\n",
    "db = client['sample_restaurants']\n",
    "restaurants1 = client.sample_restaurants\n",
    "restaurants = db.restaurants"
   ]
  },
  {
   "cell_type": "code",
   "execution_count": null,
   "id": "78935c54-06c4-4ba2-a307-dd4438a5d55f",
   "metadata": {
    "tags": []
   },
   "outputs": [],
   "source": [
    "## import and preview dataframe\n",
    "from pandas.io.json import json_normalize\n",
    "datapoints = list(db.restaurants.find({}))\n",
    "df = json_normalize(datapoints)\n",
    "df.head()"
   ]
  },
  {
   "cell_type": "code",
   "execution_count": null,
   "id": "9f19a4c2-efec-4c3d-8e20-d324f64d25d6",
   "metadata": {},
   "outputs": [],
   "source": [
    "fact_table_cols  = ['_id', 'borough', 'cuisine', 'name', 'grades', 'address.zipcode', \n",
    "         'address.coord'\n",
    "     ]\n",
    "fact_table_df = df[fact_table_cols]"
   ]
  },
  {
   "cell_type": "code",
   "execution_count": null,
   "id": "0f7bb4f6-c8b6-4121-95b1-d41f78d760eb",
   "metadata": {},
   "outputs": [],
   "source": [
    "rating_cols = ['_id','name', 'grades'\n",
    "              ]\n",
    "rating_df = df[rating_cols]"
   ]
  },
  {
   "cell_type": "code",
   "execution_count": null,
   "id": "3aef5429-1b68-4a17-b342-63cd46969871",
   "metadata": {},
   "outputs": [],
   "source": [
    "# Importing CSV File"
   ]
  },
  {
   "cell_type": "code",
   "execution_count": null,
   "id": "999394dc-73c3-4c35-b618-b8307bd47057",
   "metadata": {
    "tags": []
   },
   "outputs": [],
   "source": [
    "url = 'https://raw.githubusercontent.com/hnl2vnv/DS-2002-Project/main/fruitvegprices-2017_2022.csv'\n",
    "fvprices = pd.read_csv(url,index_col=0)"
   ]
  },
  {
   "cell_type": "code",
   "execution_count": null,
   "id": "312ea342-e044-4ffe-8ae3-98b89ee71865",
   "metadata": {},
   "outputs": [],
   "source": [
    "fvitem = ['apples', 'cabbage','onion', 'carrots','lettuce','brussels_sprouts', 'cucumbers,','pears'\n",
    "             ]\n",
    "fvprices_df =  fvprices[fvprices['item'].isin(fvitem)]"
   ]
  },
  {
   "cell_type": "code",
   "execution_count": null,
   "id": "30ce557b-9f53-4d77-b79a-45636c206507",
   "metadata": {},
   "outputs": [],
   "source": [
    "### Creating SQL Database\n",
    "#!pip install PyMySQL\n",
    "#!pip install mysql-connector-python\n",
    "#!pip install sqlalchemy\n",
    "import os\n",
    "import pymysql\n",
    "import mysql.connector\n",
    "from getpass import getpass\n",
    "from mysql.connector import connect, Error\n",
    "from sqlalchemy import create_engine\n",
    "import warnings\n",
    "warnings.filterwarnings('ignore')"
   ]
  },
  {
   "cell_type": "code",
   "execution_count": null,
   "id": "a4248a58-8ed2-48a7-943e-683aa8c8eeb2",
   "metadata": {},
   "outputs": [],
   "source": [
    "host_name = \"127.0.0.1\"\n",
    "user_id = \"ds2002\"\n",
    "pwd = \"UVA!1819\"\n",
    "db_name = \"restaurants1\" "
   ]
  },
  {
   "cell_type": "code",
   "execution_count": null,
   "id": "f0fded61-d084-4f13-946f-aa722ba16ba8",
   "metadata": {},
   "outputs": [],
   "source": [
    "try:\n",
    "    with connect(\n",
    "        host=host_name,\n",
    "        user=user_id,\n",
    "        password=pwd,\n",
    "    ) as connection:\n",
    "        create_db_query = \"CREATE DATABASE restaurants1\"\n",
    "        with connection.cursor() as cursor:\n",
    "            cursor.execute(create_db_query)\n",
    "except Error as e:\n",
    "    print(e)"
   ]
  },
  {
   "cell_type": "code",
   "execution_count": null,
   "id": "67163a6e-2c68-4572-8353-ed97acc046d6",
   "metadata": {},
   "outputs": [],
   "source": [
    "try:\n",
    "    with connect(\n",
    "        host=host_name,\n",
    "        user=user_id,\n",
    "        password=pwd,\n",
    "        database=\"restaurants1\",\n",
    "    ) as connection:\n",
    "        print(connection)\n",
    "except Error as e:\n",
    "    print(e)\n",
    "    "
   ]
  },
  {
   "cell_type": "code",
   "execution_count": null,
   "id": "3660c558-647c-4b28-bcbe-b004f2e760a6",
   "metadata": {},
   "outputs": [],
   "source": [
    "create_dim_date = \"\"\"\n",
    "CREATE TABLE IF NOT EXISTS dimension_date(\n",
    " date_key int NOT NULL,\n",
    " full_date date NULL,\n",
    " date_name char(11) NOT NULL,\n",
    " date_name_us char(11) NOT NULL,\n",
    " date_name_eu char(11) NOT NULL,\n",
    " day_of_week tinyint NOT NULL,\n",
    " day_name_of_week char(10) NOT NULL,\n",
    " day_of_month tinyint NOT NULL,\n",
    " day_of_year smallint NOT NULL,\n",
    " weekday_weekend char(10) NOT NULL,\n",
    " week_of_year tinyint NOT NULL,\n",
    " month_name char(10) NOT NULL,\n",
    " month_of_year tinyint NOT NULL,\n",
    " is_last_day_of_month char(1) NOT NULL,\n",
    " calendar_quarter tinyint NOT NULL,\n",
    " calendar_year smallint NOT NULL,\n",
    " calendar_year_month char(10) NOT NULL,\n",
    " calendar_year_qtr char(10) NOT NULL,\n",
    " fiscal_month_of_year tinyint NOT NULL,\n",
    " fiscal_quarter tinyint NOT NULL,\n",
    " fiscal_year int NOT NULL,\n",
    " fiscal_year_month char(10) NOT NULL,\n",
    " fiscal_year_qtr char(10) NOT NULL,\n",
    "  PRIMARY KEY (`date_key`)\n",
    ") ENGINE=InnoDB DEFAULT CHARSET=utf8\n",
    "\"\"\"\n",
    "\n",
    "conn = pymysql.connect(host=host_name, user=user_id, password=pwd, database=db_name)\n",
    "cursor = conn.cursor()\n",
    "\n",
    "try:\n",
    "    cursor.execute(create_dim_date)\n",
    "    cursor.close()\n",
    "    \n",
    "except Error as e:\n",
    "    print (e)\n",
    "conn.close()"
   ]
  },
  {
   "cell_type": "code",
   "execution_count": null,
   "id": "f12c757c-7832-436d-9b9f-2c68ad9528f7",
   "metadata": {},
   "outputs": [],
   "source": [
    "create_rating_table_query = \"\"\"\n",
    "CREATE TABLE IF NOT EXISTS ratings (\n",
    "  _id INT PRIMARY KEY,\n",
    "  name VARCHAR(255),\n",
    "  grades VARCHAR(255)\n",
    ")\n",
    "\"\"\"\n",
    "conn = pymysql.connect(host=host_name, user=user_id, password=pwd, database=db_name)\n",
    "cursor = conn.cursor()\n",
    "\n",
    "try:\n",
    "    cursor.execute(create_rating_table_query)\n",
    "    cursor.close()\n",
    "    \n",
    "except Error as e:\n",
    "    print (e)\n",
    "conn.close()"
   ]
  },
  {
   "cell_type": "code",
   "execution_count": null,
   "id": "fe1b4469-f038-4ab1-91c9-f43ea5a5f15e",
   "metadata": {
    "tags": []
   },
   "outputs": [],
   "source": [
    "create_fvitem_table_query = \"\"\" \n",
    "CREATE TABLE IF NOT EXISTS item (\n",
    "  apples VARCHAR(255),\n",
    "  cabbage VARCHAR(255),\n",
    "  onion   VARCHAR(255),\n",
    "  carrots VARCHAR(255),\n",
    "  lettuce VARCHAR(255),\n",
    "  brussels_sprouts VARCHAR(255),\n",
    "  cucumbers VARCHAR(255),\n",
    "  pears VARCHAR(255)\n",
    ")\n",
    " \"\"\"\n",
    "    \n",
    "conn = pymysql.connect(host=host_name, user=user_id, password=pwd, database=db_name)\n",
    "cursor = conn.cursor()\n",
    "\n",
    "try:\n",
    "    cursor.execute(create_fvitem_table_query)\n",
    "    cursor.close()\n",
    "    \n",
    "except Error as e:\n",
    "    print (e)"
   ]
  },
  {
   "cell_type": "code",
   "execution_count": null,
   "id": "883bfb68-bf0c-43a5-9def-64d5dae04534",
   "metadata": {
    "tags": []
   },
   "outputs": [],
   "source": [
    "create_restaurants_table_query = \"\"\"\n",
    "CREATE TABLE IF NOT EXISTS restaurants (\n",
    "  _id INT PRIMARY KEY,\n",
    "  borough VARCHAR(255),\n",
    "  cuisine VARCHAR(255),\n",
    "  listing_name VARCHAR(255),\n",
    "  grades ,\n",
    "  address_zipcode VARCHAR(255),\n",
    "  address_coord VARCHAR(255),\n",
    "  FOREIGN KEY (_id) REFERENCES ratings (_id)\n",
    ")\n",
    "\"\"\"\n",
    "\n",
    "conn = pymysql.connect(host=host_name, user=user_id, password=pwd, database=db_name)\n",
    "cursor = conn.cursor()\n",
    "\n",
    "try:\n",
    "    cursor.execute(create_restaurants_table_query)\n",
    "    cursor.close()\n",
    "    \n",
    "except Error as e:\n",
    "    print (e)\n",
    "    \n",
    "conn.close()"
   ]
  },
  {
   "cell_type": "code",
   "execution_count": null,
   "id": "997b0c08-acf0-4b22-8418-0a5aefd26a32",
   "metadata": {},
   "outputs": [],
   "source": [
    "conn = pymysql.connect(host=host_name, user=user_id, password=pwd, database=db_name)\n",
    "# create cursor\n",
    "cursor=conn.cursor()\n",
    "\n",
    "\n",
    "# print(rating_df)\n",
    "# print(str(i) for i in rating_df.columns.tolist())\n",
    "\n",
    "# creating column list for insertion\n",
    "cols = \",\".join([str(i) for i in rating_df.columns])\n",
    "print(type(cols))\n",
    "\n",
    "# Insert DataFrame recrds one by one.\n",
    "for i,row in rating_df.iterrows():\n",
    "    print(row)\n",
    "    sql = \"INSERT INTO ratings (\" +cols + \") VALUES (row)\"\n",
    "    cursor.execute(sql, tuple(row))\n",
    "\n",
    "    conn.commit()"
   ]
  },
  {
   "cell_type": "code",
   "execution_count": null,
   "id": "7eb436c1-ae5e-4a2b-9cdb-b09c0e708439",
   "metadata": {
    "tags": []
   },
   "outputs": [],
   "source": [
    "conn = pymysql.connect(host=host_name, user=user_id, password=pwd, database=db_name)\n",
    "# create cursor\n",
    "cursor=conn.cursor()\n",
    "\n",
    "# creating column list for insertion\n",
    "cols = \",\".join([str(i) for i in fvprices_df.columns.tolist()])\n",
    "\n",
    "# Insert DataFrame records one by one.\n",
    "for i,row in fvprices_df.iterrows():\n",
    "    sql = \"INSERT INTO fvitem (\" +cols + \") VALUES (\" + \"%s,\"*(len(row)-1) + \"%s)\"\n",
    "    cursor.execute(sql, tuple(row))\n",
    "\n",
    "    conn.commit()"
   ]
  },
  {
   "cell_type": "code",
   "execution_count": null,
   "id": "ca885650-e12d-43fe-907a-2c04a0728362",
   "metadata": {},
   "outputs": [],
   "source": [
    "checks = \"\"\"\n",
    "SET GLOBAL FOREIGN_KEY_CHECKS=0\n",
    "\"\"\"\n",
    "\n",
    "conn = pymysql.connect(host=host_name, user=user_id, password=pwd, database=db_name)\n",
    "cursor = conn.cursor()\n",
    "\n",
    "try:\n",
    "    cursor.execute(checks)\n",
    "    cursor.close()\n",
    "    \n",
    "except Error as e:\n",
    "    print (e)\n",
    "conn.close()"
   ]
  },
  {
   "cell_type": "code",
   "execution_count": null,
   "id": "a5e00b84-ce07-42da-91f6-f13ef656908a",
   "metadata": {
    "tags": []
   },
   "outputs": [],
   "source": [
    "conn = pymysql.connect(host=host_name, user=user_id, password=pwd, database=db_name)\n",
    "# create cursor\n",
    "cursor=conn.cursor()\n",
    "\n",
    "# creating column list for insertion\n",
    "cols = \",\".join([str(i) for i in fact_table_df.columns.tolist()])\n",
    "\n",
    "# Insert DataFrame recrds one by one.\n",
    "for i,row in fact_table_df.iterrows():\n",
    "    sql = \"INSERT INTO fact_table_cols (\" +cols + \") VALUES (\" + \"%s,\"*(len(row)-1) + \"%s) ON DUPLICATE KEY UPDATE id=id\" \n",
    "    cursor.execute(sql, tuple(row))\n",
    "\n",
    "    conn.commit()\n",
    "    "
   ]
  },
  {
   "cell_type": "code",
   "execution_count": null,
   "id": "7710aa82-0245-4f1e-88ea-825457697558",
   "metadata": {},
   "outputs": [],
   "source": []
  }
 ],
 "metadata": {
  "kernelspec": {
   "display_name": "Python 3 (ipykernel)",
   "language": "python",
   "name": "python3"
  },
  "language_info": {
   "codemirror_mode": {
    "name": "ipython",
    "version": 3
   },
   "file_extension": ".py",
   "mimetype": "text/x-python",
   "name": "python",
   "nbconvert_exporter": "python",
   "pygments_lexer": "ipython3",
   "version": "3.8.13"
  }
 },
 "nbformat": 4,
 "nbformat_minor": 5
}
